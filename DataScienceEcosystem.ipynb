{
 "cells": [
  {
   "cell_type": "markdown",
   "id": "ef0680a7-fef8-49d9-848b-02790f064742",
   "metadata": {},
   "source": [
    "# Data Science Tools and Ecosystem\r\n"
   ]
  },
  {
   "cell_type": "markdown",
   "id": "85f121f0-355e-4c26-be32-3212e932c725",
   "metadata": {},
   "source": [
    "\r\n",
    "\r\n",
    "In this notebook, Data Science Tools and Ecosystem are summarized.\r\n"
   ]
  },
  {
   "cell_type": "markdown",
   "id": "76643be4-0f53-4308-ad4f-d7362ead3869",
   "metadata": {},
   "source": [
    "# Data Science Languages\r\n",
    "\r\n",
    "Some of the popular languages that Data Scientists use are:\r\n",
    "\r\n",
    "1. **Python**\r\n",
    "   - Widely used for data analysis, machine learning, and scientific computing.\r\n",
    "   - Rich ecosystem of libraries (NumPy, Pandas, scikit-learn).\r\n",
    "\r\n",
    "2. **R**\r\n",
    "   - Specialized for statistical computing and data visualization.\r\n",
    "   - Extensive libraries for statistical modeling and analysis.\r\n",
    "\r\n",
    "3. **Julia**\r\n",
    "   - Known for high-performance numerical and scientific computing.\r\n",
    "   - Designed to be easy for technical computing tasks.\r\n",
    "\r\n",
    "4. **SQL**\r\n",
    "   - Essential for working with relational databases in data science.\r\n",
    "   - Used for querying, cleaning, and analyzing structured data.\r\n"
   ]
  },
  {
   "cell_type": "markdown",
   "id": "fb5fe7bf-d62e-4b6c-94fd-2dd9ac7d0a75",
   "metadata": {},
   "source": [
    "# Data Science Libraries\r\n",
    "\r\n",
    "Some of the commonly used libraries by Data Scientists include:\r\n",
    "\r\n",
    "1. **NumPy**\r\n",
    "   - Foundation for numerical computing in Python.\r\n",
    "   - Provides support for large, multi-dimensional arrays and matrices.\r\n",
    "\r\n",
    "2. **Pandas**\r\n",
    "   - Data manipulation and analysis library.\r\n",
    "   - Offers data structures like DataFrame for efficient data handling.\r\n",
    "\r\n",
    "3. **scikit-learn**\r\n",
    "   - Machine learning library built on NumPy, SciPy, and Matplotlib.\r\n",
    "   - Provides simple and efficient tools for data mining and data analysis.\r\n",
    "\r\n",
    "4. **Matplotlib**\r\n",
    "   - 2D plotting library for creating static, interactive, and animated visualizations.\r\n",
    "   - Often used for data visualization and exploration.\r\n",
    "\r\n",
    "5. **TensorFlow**\r\n",
    "   - Open-source machine learning framework developed by Google.\r\n",
    "   - Widely used for deep learning applications.\r\n",
    "\r\n",
    "6. **PyTorch**\r\n",
    "   - Deep learning library known for flexibility and dynamic computation graphs.\r\n",
    "   - Gaining popularity in both research and industry.\r\n",
    "\r\n",
    "7. **Seaborn**\r\n",
    "   - Data visualization library based on Matplotlib.\r\n",
    "   - Provides a high-level interface for drawing attractive and informative statistical graphics.\r\n"
   ]
  },
  {
   "cell_type": "markdown",
   "id": "dfcf9e87-bb39-47c9-a81e-6808028ad74f",
   "metadata": {},
   "source": [
    "### Examples of Evaluating Arithmetic Expressions in Python\n",
    "\n",
    "Below are a few examples of evaluating arithmetic expressions in Python:\n"
   ]
  },
  {
   "cell_type": "code",
   "execution_count": 1,
   "id": "d7db8c9e-21f4-4a6b-9ecc-09796a1f2041",
   "metadata": {},
   "outputs": [
    {
     "data": {
      "text/plain": [
       "17"
      ]
     },
     "execution_count": 1,
     "metadata": {},
     "output_type": "execute_result"
    }
   ],
   "source": [
    "# This is a simple arithmetic expression to multiply then add integers.\n",
    "result = (3 * 4) + 5\n",
    "result\n"
   ]
  },
  {
   "cell_type": "code",
   "execution_count": 2,
   "id": "f5485208-2700-4208-af68-fae0ff5ea6ae",
   "metadata": {},
   "outputs": [
    {
     "data": {
      "text/plain": [
       "3.3333333333333335"
      ]
     },
     "execution_count": 2,
     "metadata": {},
     "output_type": "execute_result"
    }
   ],
   "source": [
    "# This will convert 200 minutes to hours by dividing by 60.\n",
    "minutes = 200\n",
    "hours = minutes / 60\n",
    "hours\n"
   ]
  },
  {
   "cell_type": "markdown",
   "id": "6e00c46f-c200-4171-92c4-937148db289d",
   "metadata": {},
   "source": [
    "# Objectives:\r\n",
    "\r\n",
    "- List popular languages for Data Science.\r\n",
    "- Introduce commonly used libraries in Data Science.\r\n",
    "- Explore examples of evaluating arithmetic expressions in Python.\r\n",
    "- Demonstrate converting minutes to hours using Python.\r\n",
    "- Summarize key takeaways from the course.\r\n"
   ]
  },
  {
   "cell_type": "markdown",
   "id": "85d338e2-acd8-4b89-82fc-eb288356d82a",
   "metadata": {},
   "source": [
    "## Author\r\n",
    "Muhammad Ayannt\r\n"
   ]
  },
  {
   "cell_type": "code",
   "execution_count": null,
   "id": "c9b52fde-8637-48b8-8c63-daa51ae817e9",
   "metadata": {},
   "outputs": [],
   "source": []
  }
 ],
 "metadata": {
  "kernelspec": {
   "display_name": "Python 3 (ipykernel)",
   "language": "python",
   "name": "python3"
  },
  "language_info": {
   "codemirror_mode": {
    "name": "ipython",
    "version": 3
   },
   "file_extension": ".py",
   "mimetype": "text/x-python",
   "name": "python",
   "nbconvert_exporter": "python",
   "pygments_lexer": "ipython3",
   "version": "3.10.2"
  }
 },
 "nbformat": 4,
 "nbformat_minor": 5
}
